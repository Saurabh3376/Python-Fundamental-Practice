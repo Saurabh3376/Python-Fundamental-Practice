{
 "cells": [
  {
   "cell_type": "markdown",
   "id": "8fdbb1fc",
   "metadata": {},
   "source": [
    "# 1"
   ]
  },
  {
   "cell_type": "code",
   "execution_count": 1,
   "id": "d9ff70d9",
   "metadata": {},
   "outputs": [],
   "source": [
    "import numpy as np"
   ]
  },
  {
   "cell_type": "code",
   "execution_count": null,
   "id": "07c5559c",
   "metadata": {},
   "outputs": [],
   "source": [
    "x = np.random.randint(10,101,50)"
   ]
  },
  {
   "cell_type": "code",
   "execution_count": 5,
   "id": "95aef684",
   "metadata": {},
   "outputs": [],
   "source": [
    "x\n",
    "\n",
    "x_divisible_by_3 = [elem for elem in x if elem%3 == 0]\n",
    "\n",
    "x_divisible_by_3\n",
    "\n",
    "x_subtract_by_1 = [elem - 1 for elem in x_divisible_by_3]\n",
    "\n",
    "x_subtract_by_1"
   ]
  },
  {
   "cell_type": "code",
   "execution_count": 11,
   "id": "bb02000e",
   "metadata": {},
   "outputs": [
    {
     "data": {
      "text/plain": [
       "array([96, 21, 89, 23, 65, 53, 20, 19, 86, 49, 68, 24, 70, 94, 69, 74, 34,\n",
       "       49, 67, 56, 11, 87, 50, 63, 87, 56, 40, 75, 66, 31, 34, 39, 58, 52,\n",
       "       59, 86, 83, 59, 63, 35, 76, 78, 24, 58, 80, 79, 69, 48, 52, 25])"
      ]
     },
     "execution_count": 11,
     "metadata": {},
     "output_type": "execute_result"
    }
   ],
   "source": [
    "x"
   ]
  },
  {
   "cell_type": "code",
   "execution_count": 23,
   "id": "18b65c29",
   "metadata": {},
   "outputs": [],
   "source": [
    "x_divisible_by_3 = [elem for elem in x if elem%3 == 0]"
   ]
  },
  {
   "cell_type": "code",
   "execution_count": 24,
   "id": "5fc9452d",
   "metadata": {},
   "outputs": [
    {
     "data": {
      "text/plain": [
       "[96, 21, 24, 69, 87, 63, 87, 75, 66, 39, 63, 78, 24, 69, 48]"
      ]
     },
     "execution_count": 24,
     "metadata": {},
     "output_type": "execute_result"
    }
   ],
   "source": [
    "x_divisible_by_3"
   ]
  },
  {
   "cell_type": "code",
   "execution_count": 25,
   "id": "a5283484",
   "metadata": {},
   "outputs": [],
   "source": [
    "x_subtract_by_1 = [elem - 1 for elem in x_divisible_by_3]"
   ]
  },
  {
   "cell_type": "code",
   "execution_count": 26,
   "id": "7adcf475",
   "metadata": {},
   "outputs": [
    {
     "data": {
      "text/plain": [
       "[95, 20, 23, 68, 86, 62, 86, 74, 65, 38, 62, 77, 23, 68, 47]"
      ]
     },
     "execution_count": 26,
     "metadata": {},
     "output_type": "execute_result"
    }
   ],
   "source": [
    "x_subtract_by_1"
   ]
  },
  {
   "cell_type": "code",
   "execution_count": 27,
   "id": "2ea4aa79",
   "metadata": {},
   "outputs": [
    {
     "data": {
      "text/plain": [
       "[65, 20, 70, 50, 40, 35, 80, 25]"
      ]
     },
     "execution_count": 27,
     "metadata": {},
     "output_type": "execute_result"
    }
   ],
   "source": [
    "final_list = [elem for elem in x_notdivisible_by_3 if elem%5 == 0]\n",
    "final_list"
   ]
  },
  {
   "cell_type": "code",
   "execution_count": null,
   "id": "9d0ad930",
   "metadata": {},
   "outputs": [],
   "source": []
  },
  {
   "cell_type": "markdown",
   "id": "2dbc8766",
   "metadata": {},
   "source": [
    "# 2"
   ]
  },
  {
   "cell_type": "code",
   "execution_count": 41,
   "id": "618a4cd6",
   "metadata": {},
   "outputs": [],
   "source": [
    "def string_remap(input_string,d):\n",
    "    x = list(input_string)\n",
    "    for i,char in enumerate(x):\n",
    "        if char in d:\n",
    "            ## this part is easy but confused me\n",
    "            x[i] = d[char]\n",
    "        new_string = ''.join(x)\n",
    "    return(new_string)"
   ]
  },
  {
   "cell_type": "code",
   "execution_count": 45,
   "id": "7fa679ec",
   "metadata": {},
   "outputs": [
    {
     "data": {
      "text/plain": [
       "'e$neqtep'"
      ]
     },
     "execution_count": 45,
     "metadata": {},
     "output_type": "execute_result"
    }
   ],
   "source": [
    "string_remap(\"abjected\",dict_map)"
   ]
  },
  {
   "cell_type": "markdown",
   "id": "db2e19d4",
   "metadata": {},
   "source": [
    "# 3"
   ]
  },
  {
   "cell_type": "code",
   "execution_count": 46,
   "id": "5716ae88",
   "metadata": {},
   "outputs": [],
   "source": [
    "example_input =['abc','abcd','acbde','acbgeh','qwert']\n"
   ]
  },
  {
   "cell_type": "code",
   "execution_count": 47,
   "id": "54047970",
   "metadata": {},
   "outputs": [],
   "source": [
    "len_string = [len(elem) for elem in example_input]"
   ]
  },
  {
   "cell_type": "code",
   "execution_count": 308,
   "id": "e0383a3b",
   "metadata": {},
   "outputs": [],
   "source": [
    "mode = max(set(len_string),key = len_string.count)"
   ]
  },
  {
   "cell_type": "code",
   "execution_count": 309,
   "id": "0e485347",
   "metadata": {},
   "outputs": [],
   "source": [
    "keep = [elem for elem in example_input if len(elem) == mode]"
   ]
  },
  {
   "cell_type": "code",
   "execution_count": 310,
   "id": "d0252c49",
   "metadata": {},
   "outputs": [
    {
     "data": {
      "text/plain": [
       "['acbde', 'qwert']"
      ]
     },
     "execution_count": 310,
     "metadata": {},
     "output_type": "execute_result"
    }
   ],
   "source": [
    "keep"
   ]
  },
  {
   "cell_type": "code",
   "execution_count": 302,
   "id": "40b1a0e9",
   "metadata": {},
   "outputs": [],
   "source": [
    "d ={}\n",
    "for elem in len_string:\n",
    "    d[elem] = len_string.count(elem)\n",
    "    "
   ]
  },
  {
   "cell_type": "code",
   "execution_count": 303,
   "id": "2da5a73e",
   "metadata": {},
   "outputs": [
    {
     "data": {
      "text/plain": [
       "{3: 1, 4: 1, 5: 2, 6: 1}"
      ]
     },
     "execution_count": 303,
     "metadata": {},
     "output_type": "execute_result"
    }
   ],
   "source": [
    "d"
   ]
  },
  {
   "cell_type": "code",
   "execution_count": 320,
   "id": "c93df4ea",
   "metadata": {},
   "outputs": [],
   "source": [
    "def equal_len(input_list):\n",
    "    len_string = [len(elem) for elem in input_list]\n",
    "    mode = max(set(len_string),key = len_string.count)\n",
    "    new_list = [elem for elem in input_list if len(elem) == mode]\n",
    "    return new_list"
   ]
  },
  {
   "cell_type": "code",
   "execution_count": 300,
   "id": "7d0b17ca",
   "metadata": {},
   "outputs": [
    {
     "data": {
      "text/plain": [
       "['acbde']"
      ]
     },
     "execution_count": 300,
     "metadata": {},
     "output_type": "execute_result"
    }
   ],
   "source": [
    "new_list"
   ]
  },
  {
   "cell_type": "code",
   "execution_count": 323,
   "id": "cd9b67c9",
   "metadata": {},
   "outputs": [
    {
     "data": {
      "text/plain": [
       "['acbde', 'qwert']"
      ]
     },
     "execution_count": 323,
     "metadata": {},
     "output_type": "execute_result"
    }
   ],
   "source": [
    "equal_len(example_input)"
   ]
  },
  {
   "cell_type": "code",
   "execution_count": 311,
   "id": "97aa5208",
   "metadata": {},
   "outputs": [],
   "source": [
    "## too winded bc "
   ]
  },
  {
   "cell_type": "markdown",
   "id": "b7906ade",
   "metadata": {},
   "source": [
    "# 4"
   ]
  },
  {
   "cell_type": "code",
   "execution_count": 287,
   "id": "2b3f5444",
   "metadata": {},
   "outputs": [],
   "source": [
    "def jug_fill(x):\n",
    "    a = int(x/3)\n",
    "    for elem in list(range(0,a+1)):\n",
    "        b = (x - (3*elem))/5\n",
    "        while(b>=0):\n",
    "            if(b == int(b)):\n",
    "                return \"yes\"\n",
    "            else:\n",
    "                return \"no\"\n",
    "        \n",
    "    "
   ]
  },
  {
   "cell_type": "code",
   "execution_count": 288,
   "id": "855f313f",
   "metadata": {},
   "outputs": [
    {
     "data": {
      "text/plain": [
       "'no'"
      ]
     },
     "execution_count": 288,
     "metadata": {},
     "output_type": "execute_result"
    }
   ],
   "source": [
    "jug_fill(16)"
   ]
  },
  {
   "cell_type": "code",
   "execution_count": 322,
   "id": "ea06ac8d",
   "metadata": {},
   "outputs": [
    {
     "ename": "SyntaxError",
     "evalue": "invalid syntax (<ipython-input-322-76fff751c990>, line 1)",
     "output_type": "error",
     "traceback": [
      "\u001b[1;36m  File \u001b[1;32m\"<ipython-input-322-76fff751c990>\"\u001b[1;36m, line \u001b[1;32m1\u001b[0m\n\u001b[1;33m    def equal_len(example_input)\u001b[0m\n\u001b[1;37m                                ^\u001b[0m\n\u001b[1;31mSyntaxError\u001b[0m\u001b[1;31m:\u001b[0m invalid syntax\n"
     ]
    }
   ],
   "source": [
    "def equal_len(example_input)\n",
    "        \n",
    "        \n",
    "    "
   ]
  },
  {
   "cell_type": "code",
   "execution_count": 289,
   "id": "074abf59",
   "metadata": {},
   "outputs": [
    {
     "data": {
      "text/plain": [
       "'no'"
      ]
     },
     "execution_count": 289,
     "metadata": {},
     "output_type": "execute_result"
    }
   ],
   "source": [
    "jug_fill(17)"
   ]
  },
  {
   "cell_type": "code",
   "execution_count": 291,
   "id": "28695701",
   "metadata": {},
   "outputs": [
    {
     "data": {
      "text/plain": [
       "'yes'"
      ]
     },
     "execution_count": 291,
     "metadata": {},
     "output_type": "execute_result"
    }
   ],
   "source": [
    "jug_fill(20)"
   ]
  },
  {
   "cell_type": "markdown",
   "id": "6a3b49ac",
   "metadata": {},
   "source": [
    "# 5"
   ]
  },
  {
   "cell_type": "code",
   "execution_count": 116,
   "id": "47d70e9e",
   "metadata": {},
   "outputs": [],
   "source": [
    "values = list(np.random.randint(1,101,100))"
   ]
  },
  {
   "cell_type": "code",
   "execution_count": 135,
   "id": "27a4a059",
   "metadata": {},
   "outputs": [],
   "source": [
    "keys = ['t'+str(elem) for elem in range(1,101)]"
   ]
  },
  {
   "cell_type": "code",
   "execution_count": 136,
   "id": "3742dd60",
   "metadata": {},
   "outputs": [],
   "source": [
    "our_dict = {k:v for (k,v) in zip(keys,values)}"
   ]
  },
  {
   "cell_type": "code",
   "execution_count": 145,
   "id": "f65301c6",
   "metadata": {},
   "outputs": [],
   "source": [
    "d = {'t'+str(i):np.random.randint(1,101) for i in range(1,101)}"
   ]
  },
  {
   "cell_type": "code",
   "execution_count": 133,
   "id": "78f4ce1e",
   "metadata": {},
   "outputs": [],
   "source": [
    "def unique_keyvalue_pair(input_dict):\n",
    "    output = len(set(our_dict.values()))\n",
    "    return output"
   ]
  },
  {
   "cell_type": "code",
   "execution_count": 139,
   "id": "6e4a1145",
   "metadata": {},
   "outputs": [
    {
     "data": {
      "text/plain": [
       "63"
      ]
     },
     "execution_count": 139,
     "metadata": {},
     "output_type": "execute_result"
    }
   ],
   "source": [
    "unique_keyvalue_pair(our_dict)"
   ]
  },
  {
   "cell_type": "code",
   "execution_count": 146,
   "id": "d0e377c2",
   "metadata": {},
   "outputs": [
    {
     "data": {
      "text/plain": [
       "63"
      ]
     },
     "execution_count": 146,
     "metadata": {},
     "output_type": "execute_result"
    }
   ],
   "source": [
    "unique_keyvalue_pair(d)"
   ]
  },
  {
   "cell_type": "markdown",
   "id": "22a0f7c3",
   "metadata": {},
   "source": [
    "# 6"
   ]
  },
  {
   "cell_type": "code",
   "execution_count": 157,
   "id": "db6af4fe",
   "metadata": {},
   "outputs": [],
   "source": [
    "def difference_in_squares(radius):\n",
    "    d = 2*radius\n",
    "    a1 = d**2\n",
    "    a2 = 2*(radius**2)\n",
    "    return a1-a2\n",
    "        "
   ]
  },
  {
   "cell_type": "code",
   "execution_count": 158,
   "id": "26927d3e",
   "metadata": {},
   "outputs": [
    {
     "data": {
      "text/plain": [
       "32"
      ]
     },
     "execution_count": 158,
     "metadata": {},
     "output_type": "execute_result"
    }
   ],
   "source": [
    "difference_in_squares(4)"
   ]
  },
  {
   "cell_type": "markdown",
   "id": "64f7d311",
   "metadata": {},
   "source": [
    "# 7"
   ]
  },
  {
   "cell_type": "code",
   "execution_count": 218,
   "id": "6067ba92",
   "metadata": {},
   "outputs": [],
   "source": [
    "def Harshad(input_no):\n",
    "    sum_h = 0\n",
    "    i = input_no\n",
    "    while(i > 0):\n",
    "        sum_h += i%10\n",
    "        i = int(i/10)\n",
    "    if(input_no % sum_h == 0):\n",
    "        return print('Harshad Number')\n",
    "    else:\n",
    "        return print(\"Not Harshad Number\")\n",
    "## I did it the c way"
   ]
  },
  {
   "cell_type": "code",
   "execution_count": 219,
   "id": "6a34ecaa",
   "metadata": {},
   "outputs": [
    {
     "name": "stdout",
     "output_type": "stream",
     "text": [
      "Harshad Number\n"
     ]
    }
   ],
   "source": [
    "Harshad(135)"
   ]
  },
  {
   "cell_type": "code",
   "execution_count": 220,
   "id": "e47ec781",
   "metadata": {},
   "outputs": [
    {
     "name": "stdout",
     "output_type": "stream",
     "text": [
      "Not Harshad Number\n"
     ]
    }
   ],
   "source": [
    "Harshad(141)"
   ]
  },
  {
   "cell_type": "code",
   "execution_count": null,
   "id": "e2fc468f",
   "metadata": {},
   "outputs": [],
   "source": [
    "## edvancer or list comprehension python way "
   ]
  },
  {
   "cell_type": "code",
   "execution_count": 221,
   "id": "f7c22be6",
   "metadata": {},
   "outputs": [],
   "source": [
    "def is_harshad(x):\n",
    "    \n",
    "    digits=[int(i) for i in list(str(x))]\n",
    "    \n",
    "    return(x%sum(digits)==0)"
   ]
  },
  {
   "cell_type": "code",
   "execution_count": 222,
   "id": "3f38d514",
   "metadata": {},
   "outputs": [
    {
     "data": {
      "text/plain": [
       "True"
      ]
     },
     "execution_count": 222,
     "metadata": {},
     "output_type": "execute_result"
    }
   ],
   "source": [
    "is_harshad(171)"
   ]
  },
  {
   "cell_type": "code",
   "execution_count": 223,
   "id": "56652b94",
   "metadata": {},
   "outputs": [
    {
     "data": {
      "text/plain": [
       "False"
      ]
     },
     "execution_count": 223,
     "metadata": {},
     "output_type": "execute_result"
    }
   ],
   "source": [
    "is_harshad(41)"
   ]
  },
  {
   "cell_type": "markdown",
   "id": "1bfb99b7",
   "metadata": {},
   "source": [
    "# 8"
   ]
  },
  {
   "cell_type": "code",
   "execution_count": 238,
   "id": "46bfef85",
   "metadata": {},
   "outputs": [],
   "source": [
    "## do this again tomorrow\n",
    "## remember slicing and length"
   ]
  },
  {
   "cell_type": "code",
   "execution_count": 240,
   "id": "9a953c16",
   "metadata": {},
   "outputs": [],
   "source": [
    "        def fib(n):\n",
    "            start = [1,1]\n",
    "            while True:\n",
    "                start.append(start[-1]+start[-2])\n",
    "\n",
    "                if len(start) == n:\n",
    "                    return start\n"
   ]
  },
  {
   "cell_type": "code",
   "execution_count": 241,
   "id": "238fd179",
   "metadata": {},
   "outputs": [
    {
     "data": {
      "text/plain": [
       "[1, 1, 2, 3, 5, 8, 13, 21, 34]"
      ]
     },
     "execution_count": 241,
     "metadata": {},
     "output_type": "execute_result"
    }
   ],
   "source": [
    "fib(9)"
   ]
  },
  {
   "cell_type": "code",
   "execution_count": 243,
   "id": "c5b294ad",
   "metadata": {},
   "outputs": [],
   "source": [
    "def fib_even(n):\n",
    "    even_start = [elem for elem in fib(n) if elem%2 == 0]\n",
    "    return sum(even_start)"
   ]
  },
  {
   "cell_type": "code",
   "execution_count": 244,
   "id": "13c42918",
   "metadata": {},
   "outputs": [
    {
     "data": {
      "text/plain": [
       "44"
      ]
     },
     "execution_count": 244,
     "metadata": {},
     "output_type": "execute_result"
    }
   ],
   "source": [
    "fib_even(9)"
   ]
  },
  {
   "cell_type": "markdown",
   "id": "e73fa6c0",
   "metadata": {},
   "source": [
    "# 9"
   ]
  },
  {
   "cell_type": "code",
   "execution_count": 245,
   "id": "04547c63",
   "metadata": {},
   "outputs": [],
   "source": [
    "input_sentence = \"we must indeed all hang together or most assuredly we shall all hang separately\""
   ]
  },
  {
   "cell_type": "code",
   "execution_count": 198,
   "id": "cefae895",
   "metadata": {},
   "outputs": [],
   "source": [
    "def Harshad_solution(x):\n",
    "    digits=[int(i) for i in list(str(x))]\n",
    "    \n",
    "    return(x%sum(digits)==0)"
   ]
  },
  {
   "cell_type": "code",
   "execution_count": 251,
   "id": "b2b776d9",
   "metadata": {},
   "outputs": [],
   "source": [
    "strings = input_sentence.split()"
   ]
  },
  {
   "cell_type": "code",
   "execution_count": 249,
   "id": "e4f2a335",
   "metadata": {},
   "outputs": [],
   "source": [
    "## do this again\n",
    "stop_words = {'we','or','all','shall'}"
   ]
  },
  {
   "cell_type": "code",
   "execution_count": 255,
   "id": "1c8edd69",
   "metadata": {},
   "outputs": [],
   "source": [
    "def dict_words(sentence,stop_words):\n",
    "    new_list = sentence.split()\n",
    "    without_words = [w for w in new_list if w not in stop_words]\n",
    "    dictionary_count = {}\n",
    "    for elem in without_words:\n",
    "        dictionary_count[elem] = without_words.count(elem)\n",
    "    \n",
    "    return dictionary_count\n",
    "        \n",
    "        "
   ]
  },
  {
   "cell_type": "code",
   "execution_count": 256,
   "id": "7df9fa13",
   "metadata": {},
   "outputs": [
    {
     "data": {
      "text/plain": [
       "{'must': 1,\n",
       " 'indeed': 1,\n",
       " 'hang': 2,\n",
       " 'together': 1,\n",
       " 'most': 1,\n",
       " 'assuredly': 1,\n",
       " 'separately': 1}"
      ]
     },
     "execution_count": 256,
     "metadata": {},
     "output_type": "execute_result"
    }
   ],
   "source": [
    "dict_words(input_sentence,stop_words)"
   ]
  },
  {
   "cell_type": "markdown",
   "id": "27830635",
   "metadata": {},
   "source": [
    "# 10"
   ]
  },
  {
   "cell_type": "code",
   "execution_count": 259,
   "id": "caf5c8b8",
   "metadata": {},
   "outputs": [],
   "source": [
    "addresses = ['H-73, MDT, Powai , Mumbai' , '1604, SS, Hyderabad' ,'B block 73, Adyar, Chennai']\n",
    "address_list = [elem.split(\",\") for elem in addresses]\n"
   ]
  },
  {
   "cell_type": "code",
   "execution_count": 260,
   "id": "ead810b0",
   "metadata": {},
   "outputs": [
    {
     "data": {
      "text/plain": [
       "[['H-73', ' MDT', ' Powai ', ' Mumbai'],\n",
       " ['1604', ' SS', ' Hyderabad'],\n",
       " ['B block 73', ' Adyar', ' Chennai']]"
      ]
     },
     "execution_count": 260,
     "metadata": {},
     "output_type": "execute_result"
    }
   ],
   "source": [
    "address_list"
   ]
  },
  {
   "cell_type": "code",
   "execution_count": 261,
   "id": "affe2f56",
   "metadata": {},
   "outputs": [],
   "source": [
    "just_city = [elem[-1] for elem in address_list]"
   ]
  },
  {
   "cell_type": "code",
   "execution_count": 262,
   "id": "c78c9c99",
   "metadata": {},
   "outputs": [
    {
     "data": {
      "text/plain": [
       "[' Mumbai', ' Hyderabad', ' Chennai']"
      ]
     },
     "execution_count": 262,
     "metadata": {},
     "output_type": "execute_result"
    }
   ],
   "source": [
    "just_city"
   ]
  },
  {
   "cell_type": "code",
   "execution_count": null,
   "id": "0591d760",
   "metadata": {},
   "outputs": [],
   "source": [
    "## shab ji ne sab ek line mein kiya "
   ]
  },
  {
   "cell_type": "code",
   "execution_count": 264,
   "id": "c6605032",
   "metadata": {},
   "outputs": [],
   "source": [
    "cities = [elem.split(',')[-1] for elem in addresses]"
   ]
  },
  {
   "cell_type": "code",
   "execution_count": 265,
   "id": "465a7e3e",
   "metadata": {},
   "outputs": [
    {
     "data": {
      "text/plain": [
       "[' Mumbai', ' Hyderabad', ' Chennai']"
      ]
     },
     "execution_count": 265,
     "metadata": {},
     "output_type": "execute_result"
    }
   ],
   "source": [
    "cities"
   ]
  },
  {
   "cell_type": "markdown",
   "id": "9bcdb83f",
   "metadata": {},
   "source": [
    "# 11"
   ]
  },
  {
   "cell_type": "code",
   "execution_count": 271,
   "id": "bb8a4e2d",
   "metadata": {},
   "outputs": [],
   "source": [
    "def dict_count(input_list):\n",
    "    d = {}\n",
    "    for elem in input_list:\n",
    "        d[elem] = input_list.count(elem)\n",
    "    return d"
   ]
  },
  {
   "cell_type": "code",
   "execution_count": 252,
   "id": "2fbacf5a",
   "metadata": {},
   "outputs": [
    {
     "data": {
      "text/plain": [
       "['we',\n",
       " 'must',\n",
       " 'indeed',\n",
       " 'all',\n",
       " 'hang',\n",
       " 'together',\n",
       " 'or',\n",
       " 'most',\n",
       " 'assuredly',\n",
       " 'we',\n",
       " 'shall',\n",
       " 'all',\n",
       " 'hang',\n",
       " 'separately']"
      ]
     },
     "execution_count": 252,
     "metadata": {},
     "output_type": "execute_result"
    }
   ],
   "source": []
  },
  {
   "cell_type": "code",
   "execution_count": 272,
   "id": "c80cc635",
   "metadata": {},
   "outputs": [
    {
     "data": {
      "text/plain": [
       "{'a': 4, 'b': 3, 'c': 2}"
      ]
     },
     "execution_count": 272,
     "metadata": {},
     "output_type": "execute_result"
    }
   ],
   "source": [
    "dict_count(input_list)"
   ]
  },
  {
   "cell_type": "code",
   "execution_count": 270,
   "id": "1a752301",
   "metadata": {},
   "outputs": [],
   "source": [
    "input_list = ['a','b','a','a','b','c','c','a','b']"
   ]
  },
  {
   "cell_type": "code",
   "execution_count": 274,
   "id": "89f7ee6c",
   "metadata": {},
   "outputs": [],
   "source": [
    "output_dict = {elem:input_list.count(elem) for elem in input_list}"
   ]
  },
  {
   "cell_type": "code",
   "execution_count": 275,
   "id": "67cc92a4",
   "metadata": {},
   "outputs": [
    {
     "data": {
      "text/plain": [
       "{'a': 4, 'b': 3, 'c': 2}"
      ]
     },
     "execution_count": 275,
     "metadata": {},
     "output_type": "execute_result"
    }
   ],
   "source": [
    "output_dict"
   ]
  },
  {
   "cell_type": "code",
   "execution_count": 324,
   "id": "1b6e74c7",
   "metadata": {},
   "outputs": [
    {
     "name": "stdout",
     "output_type": "stream",
     "text": [
      "Harshad\t Harshad_solution\t address_list\t addresses\t adress_list\t char\t cities\t d\t dict_count\t \n",
      "dict_map\t dict_words\t difference_in_squares\t elem\t equal_len\t example_input\t fib\t fib_even\t final_list\t \n",
      "i\t input_list\t input_sentence\t is_harshad\t jug_fill\t just_city\t keep\t key_no\t keys\t \n",
      "len_string\t m\t mode\t myDict\t new_list\t np\t our_dict\t output_dict\t p\t \n",
      "s\t stop_words\t string_remap\t strings\t unique_keyvalue_pair\t unique_len\t values\t x_divisible_by_3\t x_notdivisible_by_3\t \n",
      "x_subtract_by_1\t \n"
     ]
    }
   ],
   "source": [
    "who"
   ]
  },
  {
   "cell_type": "markdown",
   "id": "efb4dff4",
   "metadata": {},
   "source": [
    "# 2 again "
   ]
  },
  {
   "cell_type": "code",
   "execution_count": 12,
   "id": "087c383d",
   "metadata": {},
   "outputs": [],
   "source": [
    "def string_remap(input_string,input_dict):\n",
    "    x = list(input_string)\n",
    "    for i,char in enumerate(input_string): ## why does this not strike me. why \n",
    "        if char in input_dict:\n",
    "            x[i] = input_dict[char]\n",
    "        remapped_string = ''.join(x) ## useful in forming a new string why did you forget already \n",
    "    return remapped_string\n",
    "            \n",
    "        \n",
    "        \n",
    "    "
   ]
  },
  {
   "cell_type": "code",
   "execution_count": 13,
   "id": "fd27c933",
   "metadata": {},
   "outputs": [
    {
     "data": {
      "text/plain": [
       "'e$neqtep'"
      ]
     },
     "execution_count": 13,
     "metadata": {},
     "output_type": "execute_result"
    }
   ],
   "source": [
    "string_remap('abjected',{'a':'e','b':'$','c':'q','d':'p','j':'n'})"
   ]
  },
  {
   "cell_type": "markdown",
   "id": "f13e6ba8",
   "metadata": {},
   "source": [
    "# 3 again"
   ]
  },
  {
   "cell_type": "code",
   "execution_count": 19,
   "id": "ea037d1d",
   "metadata": {},
   "outputs": [],
   "source": [
    "def equal_string(input_string):\n",
    "    slen = [len(elem) for elem in input_string]\n",
    "    mode = max(set(slen),key = slen.count)\n",
    "    keep_string = [elem for elem in input_string if len(elem) == mode] ## what was the fuckin problem man ? why write slen again\n",
    "    ## that aspect of two things being equivalent should and must strike \n",
    "    ## you got mode and then every element also you can take length na.\n",
    "    ## why why why does it not strike idiot\n",
    "    return keep_string"
   ]
  },
  {
   "cell_type": "code",
   "execution_count": 18,
   "id": "2d16ec4c",
   "metadata": {},
   "outputs": [
    {
     "data": {
      "text/plain": [
       "['acbde', 'qwert']"
      ]
     },
     "execution_count": 18,
     "metadata": {},
     "output_type": "execute_result"
    }
   ],
   "source": [
    "equal_string(['abc','abcd','acbde','acbgeh','qwert'])"
   ]
  },
  {
   "cell_type": "markdown",
   "id": "06b99ed3",
   "metadata": {},
   "source": [
    "# 4 again"
   ]
  },
  {
   "cell_type": "code",
   "execution_count": 22,
   "id": "2db15475",
   "metadata": {},
   "outputs": [],
   "source": [
    "def jug_fill(x):\n",
    "    b = 0\n",
    "    a = range(0,int(x/3)+1)\n",
    "    for i in a:\n",
    "        b = (x - 3*i)/5\n",
    "        while(b>=0):\n",
    "            if (b == int(b)):\n",
    "                return 'yes'\n",
    "            else:\n",
    "                return 'no'\n",
    "            \n",
    "            "
   ]
  },
  {
   "cell_type": "code",
   "execution_count": 24,
   "id": "99505dfd",
   "metadata": {},
   "outputs": [
    {
     "data": {
      "text/plain": [
       "'no'"
      ]
     },
     "execution_count": 24,
     "metadata": {},
     "output_type": "execute_result"
    }
   ],
   "source": [
    "jug_fill(17)"
   ]
  },
  {
   "cell_type": "markdown",
   "id": "c8eb3b73",
   "metadata": {},
   "source": [
    "# 5 again"
   ]
  },
  {
   "cell_type": "code",
   "execution_count": 26,
   "id": "0ad82615",
   "metadata": {},
   "outputs": [],
   "source": [
    "d = {'t'+str(i):np.random.randint(1,101) for i in range(1,101)}"
   ]
  },
  {
   "cell_type": "code",
   "execution_count": 27,
   "id": "c58b4263",
   "metadata": {},
   "outputs": [
    {
     "data": {
      "text/plain": [
       "{'t1': 27,\n",
       " 't2': 42,\n",
       " 't3': 63,\n",
       " 't4': 34,\n",
       " 't5': 95,\n",
       " 't6': 54,\n",
       " 't7': 43,\n",
       " 't8': 29,\n",
       " 't9': 6,\n",
       " 't10': 46,\n",
       " 't11': 86,\n",
       " 't12': 72,\n",
       " 't13': 48,\n",
       " 't14': 38,\n",
       " 't15': 44,\n",
       " 't16': 83,\n",
       " 't17': 57,\n",
       " 't18': 24,\n",
       " 't19': 3,\n",
       " 't20': 22,\n",
       " 't21': 33,\n",
       " 't22': 95,\n",
       " 't23': 32,\n",
       " 't24': 42,\n",
       " 't25': 5,\n",
       " 't26': 79,\n",
       " 't27': 4,\n",
       " 't28': 94,\n",
       " 't29': 64,\n",
       " 't30': 16,\n",
       " 't31': 66,\n",
       " 't32': 98,\n",
       " 't33': 23,\n",
       " 't34': 60,\n",
       " 't35': 89,\n",
       " 't36': 89,\n",
       " 't37': 52,\n",
       " 't38': 19,\n",
       " 't39': 76,\n",
       " 't40': 94,\n",
       " 't41': 33,\n",
       " 't42': 98,\n",
       " 't43': 51,\n",
       " 't44': 11,\n",
       " 't45': 10,\n",
       " 't46': 78,\n",
       " 't47': 49,\n",
       " 't48': 61,\n",
       " 't49': 29,\n",
       " 't50': 97,\n",
       " 't51': 99,\n",
       " 't52': 26,\n",
       " 't53': 11,\n",
       " 't54': 66,\n",
       " 't55': 44,\n",
       " 't56': 70,\n",
       " 't57': 55,\n",
       " 't58': 13,\n",
       " 't59': 1,\n",
       " 't60': 46,\n",
       " 't61': 71,\n",
       " 't62': 68,\n",
       " 't63': 53,\n",
       " 't64': 53,\n",
       " 't65': 77,\n",
       " 't66': 53,\n",
       " 't67': 52,\n",
       " 't68': 48,\n",
       " 't69': 25,\n",
       " 't70': 14,\n",
       " 't71': 28,\n",
       " 't72': 31,\n",
       " 't73': 81,\n",
       " 't74': 85,\n",
       " 't75': 68,\n",
       " 't76': 75,\n",
       " 't77': 76,\n",
       " 't78': 37,\n",
       " 't79': 66,\n",
       " 't80': 42,\n",
       " 't81': 12,\n",
       " 't82': 14,\n",
       " 't83': 63,\n",
       " 't84': 6,\n",
       " 't85': 27,\n",
       " 't86': 58,\n",
       " 't87': 65,\n",
       " 't88': 86,\n",
       " 't89': 58,\n",
       " 't90': 8,\n",
       " 't91': 94,\n",
       " 't92': 22,\n",
       " 't93': 4,\n",
       " 't94': 17,\n",
       " 't95': 24,\n",
       " 't96': 15,\n",
       " 't97': 98,\n",
       " 't98': 83,\n",
       " 't99': 44,\n",
       " 't100': 77}"
      ]
     },
     "execution_count": 27,
     "metadata": {},
     "output_type": "execute_result"
    }
   ],
   "source": [
    "d"
   ]
  },
  {
   "cell_type": "code",
   "execution_count": 30,
   "id": "e648bc97",
   "metadata": {},
   "outputs": [],
   "source": [
    "def unique_keys(input_dict):\n",
    "     \n",
    "    output = len(set(input_dict.values()))\n",
    "    return output"
   ]
  },
  {
   "cell_type": "code",
   "execution_count": 31,
   "id": "af2e1335",
   "metadata": {},
   "outputs": [
    {
     "data": {
      "text/plain": [
       "67"
      ]
     },
     "execution_count": 31,
     "metadata": {},
     "output_type": "execute_result"
    }
   ],
   "source": [
    "unique_keys(d)"
   ]
  },
  {
   "cell_type": "markdown",
   "id": "650cd475",
   "metadata": {},
   "source": [
    "# 7 again"
   ]
  },
  {
   "cell_type": "code",
   "execution_count": 32,
   "id": "35cc632b",
   "metadata": {},
   "outputs": [],
   "source": [
    "def harshad_or_not(i_number):\n",
    "    sum_x = 0\n",
    "    x = i_number\n",
    "    while(x>0):\n",
    "        sum_x += i_number%10\n",
    "        x = x/10\n",
    "    if(i_number%sum_x == 0):\n",
    "        return 'Harshad'\n",
    "    else:\n",
    "        return 'Not Harshad'\n",
    "        "
   ]
  },
  {
   "cell_type": "code",
   "execution_count": 33,
   "id": "72647562",
   "metadata": {},
   "outputs": [
    {
     "data": {
      "text/plain": [
       "'Not Harshad'"
      ]
     },
     "execution_count": 33,
     "metadata": {},
     "output_type": "execute_result"
    }
   ],
   "source": [
    "harshad_or_not(45)"
   ]
  },
  {
   "cell_type": "code",
   "execution_count": 36,
   "id": "913ada31",
   "metadata": {},
   "outputs": [],
   "source": [
    "def harshad_or_not(i_number):\n",
    "    digits = [int(x) for x in list(str(i_number))]  ## great way to get sum of digits. do this again just to remember how we \n",
    "    ## can get digits \n",
    "    return (i_number%sum(digits) == 0)"
   ]
  },
  {
   "cell_type": "code",
   "execution_count": 37,
   "id": "f7b3ab68",
   "metadata": {},
   "outputs": [
    {
     "data": {
      "text/plain": [
       "True"
      ]
     },
     "execution_count": 37,
     "metadata": {},
     "output_type": "execute_result"
    }
   ],
   "source": [
    "harshad_or_not(45)"
   ]
  },
  {
   "cell_type": "markdown",
   "id": "9d61822f",
   "metadata": {},
   "source": [
    "# 8 again"
   ]
  },
  {
   "cell_type": "code",
   "execution_count": 41,
   "id": "c31a091c",
   "metadata": {},
   "outputs": [],
   "source": [
    "def fib_series(n):\n",
    "    start = [1,1]\n",
    "    while True:\n",
    "        start.append(start[-2]+start[-1])\n",
    "        if len(start) == n:\n",
    "            return start"
   ]
  },
  {
   "cell_type": "code",
   "execution_count": 42,
   "id": "36c52f25",
   "metadata": {},
   "outputs": [
    {
     "data": {
      "text/plain": [
       "[1, 1, 2, 3, 5, 8, 13, 21, 34]"
      ]
     },
     "execution_count": 42,
     "metadata": {},
     "output_type": "execute_result"
    }
   ],
   "source": [
    "fib_series(9)"
   ]
  },
  {
   "cell_type": "code",
   "execution_count": 43,
   "id": "faa5d192",
   "metadata": {},
   "outputs": [],
   "source": [
    "def fib_even(series_n):\n",
    "    start = [elem for elem in series_n if elem%2 == 0]\n",
    "    return sum(start)"
   ]
  },
  {
   "cell_type": "code",
   "execution_count": 44,
   "id": "18997e3f",
   "metadata": {},
   "outputs": [
    {
     "data": {
      "text/plain": [
       "44"
      ]
     },
     "execution_count": 44,
     "metadata": {},
     "output_type": "execute_result"
    }
   ],
   "source": [
    "fib_even(fib_series(9))"
   ]
  },
  {
   "cell_type": "markdown",
   "id": "37678f45",
   "metadata": {},
   "source": [
    "# 11 again "
   ]
  },
  {
   "cell_type": "code",
   "execution_count": 46,
   "id": "8608e357",
   "metadata": {},
   "outputs": [],
   "source": [
    "def key_count(l):\n",
    "    d = {elem:l.count(elem) for elem in l}\n",
    "    return d\n",
    "    "
   ]
  },
  {
   "cell_type": "code",
   "execution_count": 49,
   "id": "75b08168",
   "metadata": {},
   "outputs": [
    {
     "data": {
      "text/plain": [
       "{'a': 4, 'b': 3, 'c': 2}"
      ]
     },
     "execution_count": 49,
     "metadata": {},
     "output_type": "execute_result"
    }
   ],
   "source": [
    "key_count(['a','b','a','a','b','c','c','a','b'])"
   ]
  },
  {
   "cell_type": "code",
   "execution_count": 50,
   "id": "37fe247b",
   "metadata": {},
   "outputs": [],
   "source": [
    "## interesting use of count in the sense that we usually count a particular element in list\n",
    "## this uses it to count other elements which may exist within the list"
   ]
  },
  {
   "cell_type": "code",
   "execution_count": null,
   "id": "ba46ebd2",
   "metadata": {},
   "outputs": [],
   "source": []
  },
  {
   "cell_type": "code",
   "execution_count": 39,
   "id": "3bb4f0d2",
   "metadata": {},
   "outputs": [],
   "source": [
    "def romanToInt(s):\n",
    "        d = {'I':1,'V':5,'X':10,'L':'50','C':100,'D':500,'M':1000}\n",
    "        num = 0\n",
    "        while(len(s) <= 15 & len(s) >0):\n",
    "            for i,elem in enumerate(s):\n",
    "                while (elem in map_dict.keys()):\n",
    "                    if(d[elem]<d[elem]):\n",
    "                        num -= d[elem]\n",
    "                    else:\n",
    "                        num += d[elem]\n",
    "        return num\n",
    "            \n",
    "        "
   ]
  },
  {
   "cell_type": "code",
   "execution_count": 41,
   "id": "120a3c93",
   "metadata": {},
   "outputs": [
    {
     "ename": "KeyError",
     "evalue": "0",
     "output_type": "error",
     "traceback": [
      "\u001b[1;31m---------------------------------------------------------------------------\u001b[0m",
      "\u001b[1;31mKeyError\u001b[0m                                  Traceback (most recent call last)",
      "\u001b[1;32m<ipython-input-41-c1f336984daa>\u001b[0m in \u001b[0;36m<module>\u001b[1;34m\u001b[0m\n\u001b[1;32m----> 1\u001b[1;33m \u001b[0mromanToInt\u001b[0m\u001b[1;33m(\u001b[0m\u001b[1;34m'IV'\u001b[0m\u001b[1;33m)\u001b[0m\u001b[1;33m\u001b[0m\u001b[1;33m\u001b[0m\u001b[0m\n\u001b[0m",
      "\u001b[1;32m<ipython-input-39-ed9b7cd16d7b>\u001b[0m in \u001b[0;36mromanToInt\u001b[1;34m(s)\u001b[0m\n\u001b[0;32m      5\u001b[0m             \u001b[1;32mfor\u001b[0m \u001b[0mi\u001b[0m\u001b[1;33m,\u001b[0m\u001b[0melem\u001b[0m \u001b[1;32min\u001b[0m \u001b[0menumerate\u001b[0m\u001b[1;33m(\u001b[0m\u001b[0ms\u001b[0m\u001b[1;33m)\u001b[0m\u001b[1;33m:\u001b[0m\u001b[1;33m\u001b[0m\u001b[1;33m\u001b[0m\u001b[0m\n\u001b[0;32m      6\u001b[0m                 \u001b[1;32mwhile\u001b[0m \u001b[1;33m(\u001b[0m\u001b[0melem\u001b[0m \u001b[1;32min\u001b[0m \u001b[0mmap_dict\u001b[0m\u001b[1;33m.\u001b[0m\u001b[0mkeys\u001b[0m\u001b[1;33m(\u001b[0m\u001b[1;33m)\u001b[0m\u001b[1;33m)\u001b[0m\u001b[1;33m:\u001b[0m\u001b[1;33m\u001b[0m\u001b[1;33m\u001b[0m\u001b[0m\n\u001b[1;32m----> 7\u001b[1;33m                     \u001b[1;32mif\u001b[0m\u001b[1;33m(\u001b[0m\u001b[0md\u001b[0m\u001b[1;33m[\u001b[0m\u001b[0mi\u001b[0m\u001b[1;33m]\u001b[0m\u001b[1;33m<\u001b[0m\u001b[0md\u001b[0m\u001b[1;33m[\u001b[0m\u001b[0mi\u001b[0m\u001b[1;33m+\u001b[0m\u001b[1;36m1\u001b[0m\u001b[1;33m]\u001b[0m\u001b[1;33m)\u001b[0m\u001b[1;33m:\u001b[0m\u001b[1;33m\u001b[0m\u001b[1;33m\u001b[0m\u001b[0m\n\u001b[0m\u001b[0;32m      8\u001b[0m                         \u001b[0mnum\u001b[0m \u001b[1;33m-=\u001b[0m \u001b[0md\u001b[0m\u001b[1;33m[\u001b[0m\u001b[0mi\u001b[0m\u001b[1;33m]\u001b[0m\u001b[1;33m\u001b[0m\u001b[1;33m\u001b[0m\u001b[0m\n\u001b[0;32m      9\u001b[0m                     \u001b[1;32melse\u001b[0m\u001b[1;33m:\u001b[0m\u001b[1;33m\u001b[0m\u001b[1;33m\u001b[0m\u001b[0m\n",
      "\u001b[1;31mKeyError\u001b[0m: 0"
     ]
    }
   ],
   "source": [
    "romanToInt('IV')"
   ]
  },
  {
   "cell_type": "code",
   "execution_count": 1,
   "id": "befda0bd",
   "metadata": {},
   "outputs": [],
   "source": [
    "s = 'SAURABH'"
   ]
  },
  {
   "cell_type": "code",
   "execution_count": 44,
   "id": "8ed23a3a",
   "metadata": {},
   "outputs": [
    {
     "name": "stdout",
     "output_type": "stream",
     "text": [
      "S\n",
      "A\n",
      "U\n",
      "R\n",
      "A\n",
      "B\n",
      "H\n"
     ]
    }
   ],
   "source": [
    "for i,elem in enumerate(s):\n",
    "    print(s[i])"
   ]
  },
  {
   "cell_type": "code",
   "execution_count": 4,
   "id": "266c84dc",
   "metadata": {},
   "outputs": [],
   "source": [
    "map_dict = {'I':1,'V':5,'X':10,'L':'50','C':100,'D':500,'M':1000}"
   ]
  },
  {
   "cell_type": "code",
   "execution_count": 36,
   "id": "7ca5dc15",
   "metadata": {},
   "outputs": [
    {
     "data": {
      "text/plain": [
       "dict_keys(['I', 'V', 'X', 'L', 'C', 'D', 'M'])"
      ]
     },
     "execution_count": 36,
     "metadata": {},
     "output_type": "execute_result"
    }
   ],
   "source": [
    "map_dict.keys()"
   ]
  },
  {
   "cell_type": "code",
   "execution_count": 19,
   "id": "a670cab8",
   "metadata": {},
   "outputs": [
    {
     "data": {
      "text/plain": [
       "4"
      ]
     },
     "execution_count": 19,
     "metadata": {},
     "output_type": "execute_result"
    }
   ],
   "source": [
    "len(S)"
   ]
  },
  {
   "cell_type": "code",
   "execution_count": 45,
   "id": "0c4b1457",
   "metadata": {},
   "outputs": [
    {
     "data": {
      "text/plain": [
       "<enumerate at 0x20400661c80>"
      ]
     },
     "execution_count": 45,
     "metadata": {},
     "output_type": "execute_result"
    }
   ],
   "source": [
    "forenumerate(map_dict)"
   ]
  },
  {
   "cell_type": "code",
   "execution_count": null,
   "id": "037b82bb",
   "metadata": {},
   "outputs": [],
   "source": []
  }
 ],
 "metadata": {
  "kernelspec": {
   "display_name": "Python 3",
   "language": "python",
   "name": "python3"
  },
  "language_info": {
   "codemirror_mode": {
    "name": "ipython",
    "version": 3
   },
   "file_extension": ".py",
   "mimetype": "text/x-python",
   "name": "python",
   "nbconvert_exporter": "python",
   "pygments_lexer": "ipython3",
   "version": "3.8.8"
  }
 },
 "nbformat": 4,
 "nbformat_minor": 5
}
